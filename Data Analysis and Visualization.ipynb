{
 "cells": [
  {
   "cell_type": "markdown",
   "id": "00612f55-b52d-425a-a3ed-59996638f957",
   "metadata": {},
   "source": [
    "# 2) Plot"
   ]
  },
  {
   "cell_type": "code",
   "execution_count": 3,
   "id": "9e63f275-2da9-4124-9a82-10e042398b61",
   "metadata": {},
   "outputs": [],
   "source": [
    "import pandas as pd\n",
    "import matplotlib.pyplot as plt\n",
    "import seaborn as sns\n",
    "\n",
    "# Load the CSV file into a new dataframe\n",
    "df = pd.read_csv(r'C:\\Users\\navee\\CapitalOne_Coding\\finaldataset1.csv')\n"
   ]
  },
  {
   "cell_type": "code",
   "execution_count": 7,
   "id": "6be5b588-582b-49c9-9039-176f11457eb9",
   "metadata": {},
   "outputs": [
    {
     "data": {
      "text/html": [
       "<div>\n",
       "<style scoped>\n",
       "    .dataframe tbody tr th:only-of-type {\n",
       "        vertical-align: middle;\n",
       "    }\n",
       "\n",
       "    .dataframe tbody tr th {\n",
       "        vertical-align: top;\n",
       "    }\n",
       "\n",
       "    .dataframe thead th {\n",
       "        text-align: right;\n",
       "    }\n",
       "</style>\n",
       "<table border=\"1\" class=\"dataframe\">\n",
       "  <thead>\n",
       "    <tr style=\"text-align: right;\">\n",
       "      <th></th>\n",
       "      <th>customerId</th>\n",
       "      <th>creditLimit</th>\n",
       "      <th>availableMoney</th>\n",
       "      <th>transactionDateTime</th>\n",
       "      <th>transactionAmount</th>\n",
       "      <th>merchantName</th>\n",
       "      <th>acqCountry</th>\n",
       "      <th>merchantCountryCode</th>\n",
       "      <th>posEntryMode</th>\n",
       "      <th>posConditionCode</th>\n",
       "      <th>merchantCategoryCode</th>\n",
       "      <th>transactionType</th>\n",
       "      <th>currentBalance</th>\n",
       "      <th>cardPresent</th>\n",
       "      <th>expirationDateKeyInMatch</th>\n",
       "      <th>isFraud</th>\n",
       "      <th>matchingCVV</th>\n",
       "    </tr>\n",
       "  </thead>\n",
       "  <tbody>\n",
       "    <tr>\n",
       "      <th>0</th>\n",
       "      <td>737265056</td>\n",
       "      <td>5000.0</td>\n",
       "      <td>5000.00</td>\n",
       "      <td>2016-08-13T14:27:32</td>\n",
       "      <td>98.55</td>\n",
       "      <td>Uber</td>\n",
       "      <td>US</td>\n",
       "      <td>US</td>\n",
       "      <td>2.0</td>\n",
       "      <td>1.0</td>\n",
       "      <td>rideshare</td>\n",
       "      <td>PURCHASE</td>\n",
       "      <td>0.00</td>\n",
       "      <td>0</td>\n",
       "      <td>0</td>\n",
       "      <td>0</td>\n",
       "      <td>1</td>\n",
       "    </tr>\n",
       "    <tr>\n",
       "      <th>1</th>\n",
       "      <td>737265056</td>\n",
       "      <td>5000.0</td>\n",
       "      <td>5000.00</td>\n",
       "      <td>2016-10-11T05:05:54</td>\n",
       "      <td>74.51</td>\n",
       "      <td>AMC #191138</td>\n",
       "      <td>US</td>\n",
       "      <td>US</td>\n",
       "      <td>9.0</td>\n",
       "      <td>1.0</td>\n",
       "      <td>entertainment</td>\n",
       "      <td>PURCHASE</td>\n",
       "      <td>0.00</td>\n",
       "      <td>1</td>\n",
       "      <td>0</td>\n",
       "      <td>0</td>\n",
       "      <td>1</td>\n",
       "    </tr>\n",
       "    <tr>\n",
       "      <th>2</th>\n",
       "      <td>737265056</td>\n",
       "      <td>5000.0</td>\n",
       "      <td>5000.00</td>\n",
       "      <td>2016-11-08T09:18:39</td>\n",
       "      <td>7.47</td>\n",
       "      <td>Play Store</td>\n",
       "      <td>US</td>\n",
       "      <td>US</td>\n",
       "      <td>9.0</td>\n",
       "      <td>1.0</td>\n",
       "      <td>mobileapps</td>\n",
       "      <td>PURCHASE</td>\n",
       "      <td>0.00</td>\n",
       "      <td>0</td>\n",
       "      <td>0</td>\n",
       "      <td>0</td>\n",
       "      <td>1</td>\n",
       "    </tr>\n",
       "    <tr>\n",
       "      <th>3</th>\n",
       "      <td>737265056</td>\n",
       "      <td>5000.0</td>\n",
       "      <td>5000.00</td>\n",
       "      <td>2016-12-10T02:14:50</td>\n",
       "      <td>7.47</td>\n",
       "      <td>Play Store</td>\n",
       "      <td>US</td>\n",
       "      <td>US</td>\n",
       "      <td>9.0</td>\n",
       "      <td>1.0</td>\n",
       "      <td>mobileapps</td>\n",
       "      <td>PURCHASE</td>\n",
       "      <td>0.00</td>\n",
       "      <td>0</td>\n",
       "      <td>0</td>\n",
       "      <td>0</td>\n",
       "      <td>1</td>\n",
       "    </tr>\n",
       "    <tr>\n",
       "      <th>4</th>\n",
       "      <td>830329091</td>\n",
       "      <td>5000.0</td>\n",
       "      <td>5000.00</td>\n",
       "      <td>2016-03-24T21:04:46</td>\n",
       "      <td>71.18</td>\n",
       "      <td>Tim Hortons #947751</td>\n",
       "      <td>US</td>\n",
       "      <td>US</td>\n",
       "      <td>2.0</td>\n",
       "      <td>1.0</td>\n",
       "      <td>fastfood</td>\n",
       "      <td>PURCHASE</td>\n",
       "      <td>0.00</td>\n",
       "      <td>1</td>\n",
       "      <td>0</td>\n",
       "      <td>0</td>\n",
       "      <td>1</td>\n",
       "    </tr>\n",
       "    <tr>\n",
       "      <th>...</th>\n",
       "      <td>...</td>\n",
       "      <td>...</td>\n",
       "      <td>...</td>\n",
       "      <td>...</td>\n",
       "      <td>...</td>\n",
       "      <td>...</td>\n",
       "      <td>...</td>\n",
       "      <td>...</td>\n",
       "      <td>...</td>\n",
       "      <td>...</td>\n",
       "      <td>...</td>\n",
       "      <td>...</td>\n",
       "      <td>...</td>\n",
       "      <td>...</td>\n",
       "      <td>...</td>\n",
       "      <td>...</td>\n",
       "      <td>...</td>\n",
       "    </tr>\n",
       "    <tr>\n",
       "      <th>786358</th>\n",
       "      <td>732852505</td>\n",
       "      <td>50000.0</td>\n",
       "      <td>48904.96</td>\n",
       "      <td>2016-12-22T18:44:12</td>\n",
       "      <td>119.92</td>\n",
       "      <td>Lyft</td>\n",
       "      <td>US</td>\n",
       "      <td>US</td>\n",
       "      <td>90.0</td>\n",
       "      <td>1.0</td>\n",
       "      <td>rideshare</td>\n",
       "      <td>PURCHASE</td>\n",
       "      <td>1095.04</td>\n",
       "      <td>0</td>\n",
       "      <td>0</td>\n",
       "      <td>0</td>\n",
       "      <td>1</td>\n",
       "    </tr>\n",
       "    <tr>\n",
       "      <th>786359</th>\n",
       "      <td>732852505</td>\n",
       "      <td>50000.0</td>\n",
       "      <td>48785.04</td>\n",
       "      <td>2016-12-25T16:20:34</td>\n",
       "      <td>18.89</td>\n",
       "      <td>hulu.com</td>\n",
       "      <td>US</td>\n",
       "      <td>US</td>\n",
       "      <td>9.0</td>\n",
       "      <td>1.0</td>\n",
       "      <td>online_subscriptions</td>\n",
       "      <td>PURCHASE</td>\n",
       "      <td>1214.96</td>\n",
       "      <td>0</td>\n",
       "      <td>0</td>\n",
       "      <td>0</td>\n",
       "      <td>1</td>\n",
       "    </tr>\n",
       "    <tr>\n",
       "      <th>786360</th>\n",
       "      <td>732852505</td>\n",
       "      <td>50000.0</td>\n",
       "      <td>48766.15</td>\n",
       "      <td>2016-12-27T15:46:24</td>\n",
       "      <td>49.43</td>\n",
       "      <td>Lyft</td>\n",
       "      <td>US</td>\n",
       "      <td>US</td>\n",
       "      <td>2.0</td>\n",
       "      <td>1.0</td>\n",
       "      <td>rideshare</td>\n",
       "      <td>PURCHASE</td>\n",
       "      <td>1233.85</td>\n",
       "      <td>0</td>\n",
       "      <td>0</td>\n",
       "      <td>0</td>\n",
       "      <td>1</td>\n",
       "    </tr>\n",
       "    <tr>\n",
       "      <th>786361</th>\n",
       "      <td>732852505</td>\n",
       "      <td>50000.0</td>\n",
       "      <td>48716.72</td>\n",
       "      <td>2016-12-29T00:30:55</td>\n",
       "      <td>49.89</td>\n",
       "      <td>walmart.com</td>\n",
       "      <td>US</td>\n",
       "      <td>US</td>\n",
       "      <td>9.0</td>\n",
       "      <td>99.0</td>\n",
       "      <td>online_retail</td>\n",
       "      <td>PURCHASE</td>\n",
       "      <td>1283.28</td>\n",
       "      <td>0</td>\n",
       "      <td>0</td>\n",
       "      <td>0</td>\n",
       "      <td>1</td>\n",
       "    </tr>\n",
       "    <tr>\n",
       "      <th>786362</th>\n",
       "      <td>732852505</td>\n",
       "      <td>50000.0</td>\n",
       "      <td>48666.83</td>\n",
       "      <td>2016-12-30T20:10:29</td>\n",
       "      <td>72.18</td>\n",
       "      <td>Uber</td>\n",
       "      <td>US</td>\n",
       "      <td>US</td>\n",
       "      <td>5.0</td>\n",
       "      <td>1.0</td>\n",
       "      <td>rideshare</td>\n",
       "      <td>PURCHASE</td>\n",
       "      <td>1333.17</td>\n",
       "      <td>0</td>\n",
       "      <td>0</td>\n",
       "      <td>0</td>\n",
       "      <td>1</td>\n",
       "    </tr>\n",
       "  </tbody>\n",
       "</table>\n",
       "<p>786363 rows × 17 columns</p>\n",
       "</div>"
      ],
      "text/plain": [
       "        customerId  creditLimit  availableMoney  transactionDateTime  \\\n",
       "0        737265056       5000.0         5000.00  2016-08-13T14:27:32   \n",
       "1        737265056       5000.0         5000.00  2016-10-11T05:05:54   \n",
       "2        737265056       5000.0         5000.00  2016-11-08T09:18:39   \n",
       "3        737265056       5000.0         5000.00  2016-12-10T02:14:50   \n",
       "4        830329091       5000.0         5000.00  2016-03-24T21:04:46   \n",
       "...            ...          ...             ...                  ...   \n",
       "786358   732852505      50000.0        48904.96  2016-12-22T18:44:12   \n",
       "786359   732852505      50000.0        48785.04  2016-12-25T16:20:34   \n",
       "786360   732852505      50000.0        48766.15  2016-12-27T15:46:24   \n",
       "786361   732852505      50000.0        48716.72  2016-12-29T00:30:55   \n",
       "786362   732852505      50000.0        48666.83  2016-12-30T20:10:29   \n",
       "\n",
       "        transactionAmount         merchantName acqCountry merchantCountryCode  \\\n",
       "0                   98.55                 Uber         US                  US   \n",
       "1                   74.51          AMC #191138         US                  US   \n",
       "2                    7.47           Play Store         US                  US   \n",
       "3                    7.47           Play Store         US                  US   \n",
       "4                   71.18  Tim Hortons #947751         US                  US   \n",
       "...                   ...                  ...        ...                 ...   \n",
       "786358             119.92                 Lyft         US                  US   \n",
       "786359              18.89             hulu.com         US                  US   \n",
       "786360              49.43                 Lyft         US                  US   \n",
       "786361              49.89          walmart.com         US                  US   \n",
       "786362              72.18                 Uber         US                  US   \n",
       "\n",
       "        posEntryMode  posConditionCode  merchantCategoryCode transactionType  \\\n",
       "0                2.0               1.0             rideshare        PURCHASE   \n",
       "1                9.0               1.0         entertainment        PURCHASE   \n",
       "2                9.0               1.0            mobileapps        PURCHASE   \n",
       "3                9.0               1.0            mobileapps        PURCHASE   \n",
       "4                2.0               1.0              fastfood        PURCHASE   \n",
       "...              ...               ...                   ...             ...   \n",
       "786358          90.0               1.0             rideshare        PURCHASE   \n",
       "786359           9.0               1.0  online_subscriptions        PURCHASE   \n",
       "786360           2.0               1.0             rideshare        PURCHASE   \n",
       "786361           9.0              99.0         online_retail        PURCHASE   \n",
       "786362           5.0               1.0             rideshare        PURCHASE   \n",
       "\n",
       "        currentBalance  cardPresent  expirationDateKeyInMatch  isFraud  \\\n",
       "0                 0.00            0                         0        0   \n",
       "1                 0.00            1                         0        0   \n",
       "2                 0.00            0                         0        0   \n",
       "3                 0.00            0                         0        0   \n",
       "4                 0.00            1                         0        0   \n",
       "...                ...          ...                       ...      ...   \n",
       "786358         1095.04            0                         0        0   \n",
       "786359         1214.96            0                         0        0   \n",
       "786360         1233.85            0                         0        0   \n",
       "786361         1283.28            0                         0        0   \n",
       "786362         1333.17            0                         0        0   \n",
       "\n",
       "        matchingCVV  \n",
       "0                 1  \n",
       "1                 1  \n",
       "2                 1  \n",
       "3                 1  \n",
       "4                 1  \n",
       "...             ...  \n",
       "786358            1  \n",
       "786359            1  \n",
       "786360            1  \n",
       "786361            1  \n",
       "786362            1  \n",
       "\n",
       "[786363 rows x 17 columns]"
      ]
     },
     "execution_count": 7,
     "metadata": {},
     "output_type": "execute_result"
    }
   ],
   "source": [
    "df"
   ]
  },
  {
   "cell_type": "markdown",
   "id": "9219ab9e-7d4f-4bc8-adce-9f95d62857c6",
   "metadata": {},
   "source": [
    "Capital One provides 10 different Credit Limits to its customers starting from 250  to $20000."
   ]
  },
  {
   "cell_type": "code",
   "execution_count": 10,
   "id": "3be794eb-5095-40ff-a656-bad810db7631",
   "metadata": {},
   "outputs": [
    {
     "data": {
      "text/plain": [
       "array([ 5000.,  2500., 50000., 15000., 10000.,   250.,   500.,  1000.,\n",
       "        7500., 20000.])"
      ]
     },
     "execution_count": 10,
     "metadata": {},
     "output_type": "execute_result"
    }
   ],
   "source": [
    "df.creditLimit.unique() # Credit Limit types"
   ]
  },
  {
   "cell_type": "markdown",
   "id": "20e7146f-b36b-48c5-b4fb-8df1634a2d65",
   "metadata": {},
   "source": [
    "Capital One offers 5000, 15000 or 7500 as credit limit to its customers mostly."
   ]
  },
  {
   "cell_type": "code",
   "execution_count": 13,
   "id": "2c6504a5-880a-46fc-bdb1-1f9e81833730",
   "metadata": {},
   "outputs": [
    {
     "data": {
      "image/png": "[encoded data removed]",
      "text/plain": [
       "<Figure size 1400x600 with 1 Axes>"
      ]
     },
     "metadata": {},
     "output_type": "display_data"
    }
   ],
   "source": [
    "z=pd.DataFrame(df.groupby('creditLimit').count()['isFraud']).reset_index(drop=False)\n",
    "z.columns=['creditLimit','Freq'] # rename columns\n",
    "plt.figure(figsize=(14,6)) # adjust figure size\n",
    "sns.set_theme() # set theme\n",
    "ax = sns.barplot(x=\"creditLimit\", y=\"Freq\", data=z) # draw barplot"
   ]
  },
  {
   "cell_type": "markdown",
   "id": "0f352203-d862-4979-8098-49d7640b6d8c",
   "metadata": {},
   "source": [
    "There are 12417 fraudulent cases among all population."
   ]
  },
  {
   "cell_type": "code",
   "execution_count": 16,
   "id": "6e8dc8fa-4a3f-43f1-b914-76bfd125e1ce",
   "metadata": {},
   "outputs": [
    {
     "data": {
      "text/plain": [
       "isFraud\n",
       "0    773946\n",
       "1     12417\n",
       "Name: count, dtype: int64"
      ]
     },
     "execution_count": 16,
     "metadata": {},
     "output_type": "execute_result"
    }
   ],
   "source": [
    "df['isFraud'].value_counts() # distribution of fraud vs non-fraud cases"
   ]
  },
  {
   "cell_type": "markdown",
   "id": "add5fc55-aa34-4325-b633-265f7e3e06f2",
   "metadata": {},
   "source": [
    "Ratio of fraudulent cases to all population is 1.58 % so the dataset is highly imbalanced."
   ]
  },
  {
   "cell_type": "code",
   "execution_count": 19,
   "id": "c580d4b0-608e-4e55-97fc-54c02a482db7",
   "metadata": {},
   "outputs": [
    {
     "name": "stderr",
     "output_type": "stream",
     "text": [
      "C:\\Users\\navee\\AppData\\Local\\Temp\\ipykernel_22744\\2996298398.py:6: FutureWarning: \n",
      "\n",
      "Passing `palette` without assigning `hue` is deprecated and will be removed in v0.14.0. Assign the `x` variable to `hue` and set `legend=False` for the same effect.\n",
      "\n",
      "  sns.barplot(x=fraud_counts.index, y=fraud_counts.values, palette=\"Blues_d\")\n"
     ]
    },
    {
     "data": {
      "image/png": "[encoded data removed]",
      "text/plain": [
       "<Figure size 800x600 with 1 Axes>"
      ]
     },
     "metadata": {},
     "output_type": "display_data"
    }
   ],
   "source": [
    "# Count of 'isFraud' values\n",
    "fraud_counts = df['isFraud'].value_counts()\n",
    "\n",
    "# Create a bar plot\n",
    "plt.figure(figsize=(8, 6))\n",
    "sns.barplot(x=fraud_counts.index, y=fraud_counts.values, palette=\"Blues_d\")\n",
    "\n",
    "# Add labels and title\n",
    "plt.title(\"Count of Fraudulent vs Non-Fraudulent Transactions\")\n",
    "plt.xlabel(\"Fraudulent (1) vs Non-Fraudulent (0)\")\n",
    "plt.ylabel(\"Count\")\n",
    "\n",
    "# Show the plot\n",
    "plt.show()"
   ]
  },
  {
   "cell_type": "markdown",
   "id": "12eb3339-a76d-41c7-8022-5014fb9ae090",
   "metadata": {},
   "source": [
    "There are 19 merchant categories such as rideshare, auto,hotels and fastfood."
   ]
  },
  {
   "cell_type": "code",
   "execution_count": 22,
   "id": "dfaeab6c-eff8-4f8d-9d86-d28464507332",
   "metadata": {},
   "outputs": [
    {
     "data": {
      "text/plain": [
       "array(['rideshare', 'entertainment', 'mobileapps', 'fastfood',\n",
       "       'food_delivery', 'auto', 'online_retail', 'gym', 'health',\n",
       "       'personal care', 'food', 'fuel', 'online_subscriptions',\n",
       "       'online_gifts', 'hotels', 'airline', 'furniture', 'subscriptions',\n",
       "       'cable/phone'], dtype=object)"
      ]
     },
     "execution_count": 22,
     "metadata": {},
     "output_type": "execute_result"
    }
   ],
   "source": [
    "df['merchantCategoryCode'].unique()"
   ]
  },
  {
   "cell_type": "code",
   "execution_count": 24,
   "id": "50b6449f-df17-4749-8680-0e8a2b30cf46",
   "metadata": {},
   "outputs": [
    {
     "data": {
      "text/plain": [
       "19"
      ]
     },
     "execution_count": 24,
     "metadata": {},
     "output_type": "execute_result"
    }
   ],
   "source": [
    "df['merchantCategoryCode'].nunique()"
   ]
  },
  {
   "cell_type": "markdown",
   "id": "15a991e6-5db3-4ff1-b1db-47a3f1666ac7",
   "metadata": {},
   "source": [
    "Top 3 categories are online, fastfood and entertainment in terms of the number of transactions."
   ]
  },
  {
   "cell_type": "code",
   "execution_count": 27,
   "id": "e68381b6-8363-4d1c-bcaf-545313142e0d",
   "metadata": {},
   "outputs": [
    {
     "data": {
      "image/png": "[encoded data removed]",
      "text/plain": [
       "<Figure size 2400x600 with 1 Axes>"
      ]
     },
     "metadata": {},
     "output_type": "display_data"
    }
   ],
   "source": [
    "t=pd.DataFrame(df['merchantCategoryCode'].value_counts()).reset_index(drop=False)\n",
    "t.columns=['MerchantCategory','Freq'] # rename columns\n",
    "plt.figure(figsize=(24,6)) # adjust figure size\n",
    "sns.set_theme() # set theme\n",
    "ax = sns.barplot(x=\"MerchantCategory\", y=\"Freq\", data=t) # draw barplot"
   ]
  },
  {
   "cell_type": "markdown",
   "id": "4934f1b2-c2ca-4b97-bc62-c5d1cfaa0fdd",
   "metadata": {},
   "source": [
    "The dataset includes transactions in 4 countries such as US, Canada, Mexico and Puerto Rico."
   ]
  },
  {
   "cell_type": "code",
   "execution_count": 30,
   "id": "2cbab1fb-6535-4054-932c-5129199ba005",
   "metadata": {},
   "outputs": [
    {
     "data": {
      "text/plain": [
       "array(['US', nan, 'CAN', 'MEX', 'PR'], dtype=object)"
      ]
     },
     "execution_count": 30,
     "metadata": {},
     "output_type": "execute_result"
    }
   ],
   "source": [
    "df.acqCountry.unique()"
   ]
  },
  {
   "cell_type": "code",
   "execution_count": 32,
   "id": "f6674c8c-0b42-471a-849f-d87092734da8",
   "metadata": {},
   "outputs": [
    {
     "data": {
      "text/plain": [
       "array(['US', 'CAN', nan, 'PR', 'MEX'], dtype=object)"
      ]
     },
     "execution_count": 32,
     "metadata": {},
     "output_type": "execute_result"
    }
   ],
   "source": [
    "df.merchantCountryCode.unique()"
   ]
  },
  {
   "cell_type": "code",
   "execution_count": 34,
   "id": "d38f204a-ad76-4dc3-ab6b-1b2c3fbc2d14",
   "metadata": {},
   "outputs": [
    {
     "data": {
      "text/plain": [
       "acqCountry\n",
       "US     774709\n",
       "MEX      3130\n",
       "CAN      2424\n",
       "PR       1538\n",
       "Name: count, dtype: int64"
      ]
     },
     "execution_count": 34,
     "metadata": {},
     "output_type": "execute_result"
    }
   ],
   "source": [
    "df.acqCountry.value_counts()"
   ]
  },
  {
   "cell_type": "markdown",
   "id": "149d7976-b9e3-4a54-9d83-8af49afc4365",
   "metadata": {},
   "source": [
    "There are 3 different transaction types such as Purchase, Address Verification and Reversal. Also, it includes some Null values in that feature."
   ]
  },
  {
   "cell_type": "code",
   "execution_count": 37,
   "id": "b04158b0-5ee9-4804-b5df-19bfec6767c0",
   "metadata": {},
   "outputs": [
    {
     "data": {
      "text/plain": [
       "array(['PURCHASE', 'ADDRESS_VERIFICATION', 'REVERSAL', nan], dtype=object)"
      ]
     },
     "execution_count": 37,
     "metadata": {},
     "output_type": "execute_result"
    }
   ],
   "source": [
    "df['transactionType'].unique() # list of transaction type categories"
   ]
  },
  {
   "cell_type": "code",
   "execution_count": 39,
   "id": "b3dcba42-673d-41b6-9283-c53317f470c6",
   "metadata": {},
   "outputs": [
    {
     "data": {
      "text/html": [
       "<div>\n",
       "<style scoped>\n",
       "    .dataframe tbody tr th:only-of-type {\n",
       "        vertical-align: middle;\n",
       "    }\n",
       "\n",
       "    .dataframe tbody tr th {\n",
       "        vertical-align: top;\n",
       "    }\n",
       "\n",
       "    .dataframe thead th {\n",
       "        text-align: right;\n",
       "    }\n",
       "</style>\n",
       "<table border=\"1\" class=\"dataframe\">\n",
       "  <thead>\n",
       "    <tr style=\"text-align: right;\">\n",
       "      <th></th>\n",
       "      <th>transactionType</th>\n",
       "      <th>count</th>\n",
       "    </tr>\n",
       "  </thead>\n",
       "  <tbody>\n",
       "    <tr>\n",
       "      <th>0</th>\n",
       "      <td>PURCHASE</td>\n",
       "      <td>745193</td>\n",
       "    </tr>\n",
       "    <tr>\n",
       "      <th>1</th>\n",
       "      <td>REVERSAL</td>\n",
       "      <td>20303</td>\n",
       "    </tr>\n",
       "    <tr>\n",
       "      <th>2</th>\n",
       "      <td>ADDRESS_VERIFICATION</td>\n",
       "      <td>20169</td>\n",
       "    </tr>\n",
       "  </tbody>\n",
       "</table>\n",
       "</div>"
      ],
      "text/plain": [
       "        transactionType   count\n",
       "0              PURCHASE  745193\n",
       "1              REVERSAL   20303\n",
       "2  ADDRESS_VERIFICATION   20169"
      ]
     },
     "execution_count": 39,
     "metadata": {},
     "output_type": "execute_result"
    }
   ],
   "source": [
    "e=pd.DataFrame(df.transactionType.value_counts()).reset_index(drop=False)\n",
    "e"
   ]
  },
  {
   "cell_type": "code",
   "execution_count": 41,
   "id": "ba25e814-377e-4e6d-b230-8715cb131164",
   "metadata": {},
   "outputs": [
    {
     "data": {
      "image/png": "[encoded data removed]",
      "text/plain": [
       "<Figure size 1400x600 with 1 Axes>"
      ]
     },
     "metadata": {},
     "output_type": "display_data"
    }
   ],
   "source": [
    "e=pd.DataFrame(df.transactionType.value_counts()).reset_index(drop=False)\n",
    "e.columns=['Category','Freq'] # rename columns\n",
    "plt.figure(figsize=(14,6)) # adjust figure size\n",
    "sns.set_theme() # set theme\n",
    "ax = sns.barplot(x=\"Freq\", y=\"Category\", data=e) # draw barplot"
   ]
  },
  {
   "cell_type": "markdown",
   "id": "11a1d131-6b2f-41df-a951-cc5cea72a8c2",
   "metadata": {},
   "source": [
    "I created 'Date' column by splitting original 'TransactionDate' column.The dataset obtains transactions in year 2016."
   ]
  },
  {
   "cell_type": "code",
   "execution_count": 44,
   "id": "3fef8ab0-ca66-4d7d-b15d-aefde479aefd",
   "metadata": {},
   "outputs": [],
   "source": [
    "df['Date']=df['transactionDateTime'].apply(lambda x: x.split('T')[0]) # create 'Date' column"
   ]
  },
  {
   "cell_type": "code",
   "execution_count": 48,
   "id": "6443cd9d-d5e0-4d50-b9cb-7e02a727145d",
   "metadata": {},
   "outputs": [
    {
     "data": {
      "text/plain": [
       "'2016-01-01T00:01:02'"
      ]
     },
     "execution_count": 48,
     "metadata": {},
     "output_type": "execute_result"
    }
   ],
   "source": [
    "# Dataset includes all transactions during year 2016\n",
    "df.transactionDateTime.min() # Start point: 2016-01-01 T 00:01:02"
   ]
  },
  {
   "cell_type": "code",
   "execution_count": 52,
   "id": "e153c61a-5122-4c1f-875f-fb9f6534efab",
   "metadata": {},
   "outputs": [
    {
     "data": {
      "text/plain": [
       "'2016-12-30T23:59:45'"
      ]
     },
     "execution_count": 52,
     "metadata": {},
     "output_type": "execute_result"
    }
   ],
   "source": [
    "df.transactionDateTime.max() # End point:   2016-12-30 T 23:59:45"
   ]
  },
  {
   "cell_type": "markdown",
   "id": "ee6f76fb-9373-4e24-b650-f89d32f7af63",
   "metadata": {},
   "source": [
    "I checked the key statistics of transaction amounts. Maximum transaction amount was $2011. Also, average of transaction amount is 136.98 standard deviation of transaction amount was 147.72."
   ]
  },
  {
   "cell_type": "code",
   "execution_count": 55,
   "id": "a3813d2b-b821-4a23-b3e2-e7f4114e7292",
   "metadata": {},
   "outputs": [
    {
     "data": {
      "text/plain": [
       "count    786363.000000\n",
       "mean        136.985791\n",
       "std         147.725569\n",
       "min           0.000000\n",
       "25%          33.650000\n",
       "50%          87.900000\n",
       "75%         191.480000\n",
       "max        2011.540000\n",
       "Name: transactionAmount, dtype: float64"
      ]
     },
     "execution_count": 55,
     "metadata": {},
     "output_type": "execute_result"
    }
   ],
   "source": [
    "df.transactionAmount.describe()"
   ]
  },
  {
   "cell_type": "markdown",
   "id": "dd4b0357-c528-4a18-abe8-ba4dc61da252",
   "metadata": {},
   "source": [
    "I plotted the transactions amounts by applying histogram. This shows that there is right skewed (positive skewness) distribution. Avg. of transaction amounts (136.98) is much higher than median of transaction amounts (87.90)"
   ]
  },
  {
   "cell_type": "code",
   "execution_count": 60,
   "id": "9c2952ab-a34e-41fa-8b10-e7107e2acfd1",
   "metadata": {},
   "outputs": [
    {
     "name": "stderr",
     "output_type": "stream",
     "text": [
      "C:\\Users\\navee\\AppData\\Local\\Temp\\ipykernel_22744\\2242476397.py:2: UserWarning: \n",
      "\n",
      "`distplot` is a deprecated function and will be removed in seaborn v0.14.0.\n",
      "\n",
      "Please adapt your code to use either `displot` (a figure-level function with\n",
      "similar flexibility) or `histplot` (an axes-level function for histograms).\n",
      "\n",
      "For a guide to updating your code to use the new functions, please see\n",
      "https://gist.github.com/mwaskom/de44147ed2974457ad6372750bbe5751\n",
      "\n",
      "  sns.distplot(df.transactionAmount)\n"
     ]
    },
    {
     "data": {
      "text/plain": [
       "<Axes: xlabel='transactionAmount', ylabel='Density'>"
      ]
     },
     "execution_count": 60,
     "metadata": {},
     "output_type": "execute_result"
    },
    {
     "data": {
      "image/png": "[encoded data removed]",
      "text/plain": [
       "<Figure size 1200x700 with 1 Axes>"
      ]
     },
     "metadata": {},
     "output_type": "display_data"
    }
   ],
   "source": [
    "plt.figure(figsize=(12, 7))\n",
    "sns.distplot(df.transactionAmount)"
   ]
  },
  {
   "cell_type": "code",
   "execution_count": 64,
   "id": "54257a72-50a8-4d9b-9a70-13d5d9d586ed",
   "metadata": {},
   "outputs": [
    {
     "data": {
      "text/plain": [
       "[Text(0, 0.5, 'Freq')]"
      ]
     },
     "execution_count": 64,
     "metadata": {},
     "output_type": "execute_result"
    },
    {
     "data": {
      "image/png": "[encoded data removed]",
      "text/plain": [
       "<Figure size 1200x700 with 1 Axes>"
      ]
     },
     "metadata": {},
     "output_type": "display_data"
    }
   ],
   "source": [
    "# visualize transaction amounts by using the histogram\n",
    "sns.set()\n",
    "plt.figure(figsize=(12, 7))\n",
    "plt.title('Distribution of Transaction Amounts', weight='bold')\n",
    "ax=sns.histplot(data=df, x=\"transactionAmount\", color='blue',bins=15)\n",
    "ax.set(xlabel='Amount')\n",
    "ax.set(ylabel='Freq')"
   ]
  },
  {
   "cell_type": "markdown",
   "id": "f95808cc-1280-4058-b8f4-a406c42192a9",
   "metadata": {},
   "source": [
    "61% of all transactions are less than specific transaction amount ($125) in the dataset."
   ]
  },
  {
   "cell_type": "code",
   "execution_count": 71,
   "id": "53a33bf0-b7ac-4a08-aaa1-860d92ecf813",
   "metadata": {},
   "outputs": [
    {
     "data": {
      "text/plain": [
       "0.61"
      ]
     },
     "execution_count": 71,
     "metadata": {},
     "output_type": "execute_result"
    }
   ],
   "source": [
    "z=df[(df.transactionAmount < 125)]\n",
    "round(len(z)/len(df),2)\n"
   ]
  },
  {
   "cell_type": "markdown",
   "id": "4ef5f474-42f7-4a8b-be99-4d6fed3885b9",
   "metadata": {},
   "source": [
    "This table indicates how many transactions each account had for each merchant in year 2016."
   ]
  },
  {
   "cell_type": "code",
   "execution_count": 91,
   "id": "809f0a44-f248-430a-a778-290fefebdf2c",
   "metadata": {},
   "outputs": [
    {
     "data": {
      "text/html": [
       "<div>\n",
       "<style scoped>\n",
       "    .dataframe tbody tr th:only-of-type {\n",
       "        vertical-align: middle;\n",
       "    }\n",
       "\n",
       "    .dataframe tbody tr th {\n",
       "        vertical-align: top;\n",
       "    }\n",
       "\n",
       "    .dataframe thead th {\n",
       "        text-align: right;\n",
       "    }\n",
       "</style>\n",
       "<table border=\"1\" class=\"dataframe\">\n",
       "  <thead>\n",
       "    <tr style=\"text-align: right;\">\n",
       "      <th></th>\n",
       "      <th>customerId</th>\n",
       "      <th>merchantName</th>\n",
       "      <th>Count</th>\n",
       "    </tr>\n",
       "  </thead>\n",
       "  <tbody>\n",
       "    <tr>\n",
       "      <th>0</th>\n",
       "      <td>100088067</td>\n",
       "      <td>1st BBQ</td>\n",
       "      <td>1</td>\n",
       "    </tr>\n",
       "    <tr>\n",
       "      <th>1</th>\n",
       "      <td>100088067</td>\n",
       "      <td>1st Pub</td>\n",
       "      <td>1</td>\n",
       "    </tr>\n",
       "    <tr>\n",
       "      <th>2</th>\n",
       "      <td>100088067</td>\n",
       "      <td>1st Sandwitch Bar #758805</td>\n",
       "      <td>1</td>\n",
       "    </tr>\n",
       "    <tr>\n",
       "      <th>3</th>\n",
       "      <td>100088067</td>\n",
       "      <td>34th BBQ #412895</td>\n",
       "      <td>1</td>\n",
       "    </tr>\n",
       "    <tr>\n",
       "      <th>4</th>\n",
       "      <td>100088067</td>\n",
       "      <td>AMC #191138</td>\n",
       "      <td>1</td>\n",
       "    </tr>\n",
       "  </tbody>\n",
       "</table>\n",
       "</div>"
      ],
      "text/plain": [
       "   customerId               merchantName  Count\n",
       "0   100088067                    1st BBQ      1\n",
       "1   100088067                    1st Pub      1\n",
       "2   100088067  1st Sandwitch Bar #758805      1\n",
       "3   100088067           34th BBQ #412895      1\n",
       "4   100088067                AMC #191138      1"
      ]
     },
     "execution_count": 91,
     "metadata": {},
     "output_type": "execute_result"
    }
   ],
   "source": [
    "cust_length=df.groupby(['customerId','merchantName']).count()['Date']\n",
    "cust_length=pd.DataFrame(cust_length).reset_index()\n",
    "cust_length.columns=['customerId','merchantName','Count']\n",
    "#cust_length=cust_length.sort_values(by='Count',ascending=False)\n",
    "cust_length.head()"
   ]
  },
  {
   "cell_type": "markdown",
   "id": "c9d9eda6-4086-4412-be5e-e189d5bdb280",
   "metadata": {},
   "source": [
    "1) Credit Limit Distribution: Most transactions occur at a credit limit of $5,000, with fewer at higher limits; focus fraud detection on mid-tier users.\n",
    "\n",
    "2) Fraudulent vs Non-Fraudulent Transactions: Only 12,417 transactions are fraudulent out of 786,363, indicating a highly imbalanced dataset requiring advanced resampling techniques.\n",
    "\n",
    "3) Merchant Categories: Categories like online retail, fast food, and entertainment dominate, warranting stricter monitoring for potential fraud.\n",
    "\n",
    "4) Transaction Types: The majority of transactions are purchases, suggesting the need for enhanced verification for routine purchases to prevent fraud.\n",
    "\n",
    "5) Transaction Amount Distribution: Most transactions are under $250, with a positively skewed distribution, indicating a higher volume of low-value transactions but significant risk in high-value ones."
   ]
  },
  {
   "cell_type": "code",
   "execution_count": null,
   "id": "5368926e-3451-411e-b378-0049bf85ac12",
   "metadata": {},
   "outputs": [],
   "source": []
  }
 ],
 "metadata": {
  "kernelspec": {
   "display_name": "Python 3 (ipykernel)",
   "language": "python",
   "name": "python3"
  },
  "language_info": {
   "codemirror_mode": {
    "name": "ipython",
    "version": 3
   },
   "file_extension": ".py",
   "mimetype": "text/x-python",
   "name": "python",
   "nbconvert_exporter": "python",
   "pygments_lexer": "ipython3",
   "version": "3.12.4"
  }
 },
 "nbformat": 4,
 "nbformat_minor": 5
}
